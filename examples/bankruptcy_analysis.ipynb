{
 "cells": [
  {
   "cell_type": "code",
   "execution_count": 1,
   "metadata": {},
   "outputs": [],
   "source": [
    "import os\n",
    "import sys\n",
    "from pathlib import Path\n",
    "sys.path.append(str(Path(os.path.abspath('')).resolve().parents[0]))"
   ]
  },
  {
   "cell_type": "code",
   "execution_count": 2,
   "metadata": {},
   "outputs": [
    {
     "name": "stderr",
     "output_type": "stream",
     "text": [
      "2024-11-12 12:52:16.872968: I tensorflow/core/platform/cpu_feature_guard.cc:182] This TensorFlow binary is optimized to use available CPU instructions in performance-critical operations.\n",
      "To enable the following instructions: SSE4.1 SSE4.2 AVX AVX2 AVX512F AVX512_VNNI FMA, in other operations, rebuild TensorFlow with the appropriate compiler flags.\n"
     ]
    }
   ],
   "source": [
    "from information_noise_reduction.subset_generator import reverse_all_subsets_generator\n",
    "from information_noise_reduction.evaluate_model import evaluate_subsets\n",
    "from information_noise_reduction.interpretation import compute_variable_contributions, top_k_variables\n",
    "from information_noise_reduction.pre_processing import select_important_features_with_lasso\n",
    "\n",
    "import numpy as np\n",
    "import pandas as pd\n",
    "import kagglehub\n",
    "from tensorflow.keras.models import Sequential\n",
    "from tensorflow.keras.layers import Dense"
   ]
  },
  {
   "cell_type": "markdown",
   "metadata": {},
   "source": [
    "## Load / Transform"
   ]
  },
  {
   "cell_type": "code",
   "execution_count": 3,
   "metadata": {},
   "outputs": [],
   "source": [
    "path = os.path.join(kagglehub.dataset_download(\"fedesoriano/company-bankruptcy-prediction\"), \"data.csv\")"
   ]
  },
  {
   "cell_type": "code",
   "execution_count": 4,
   "metadata": {},
   "outputs": [
    {
     "name": "stdout",
     "output_type": "stream",
     "text": [
      "96\n"
     ]
    },
    {
     "data": {
      "text/plain": [
       "Index(['Bankrupt?', ' ROA(C) before interest and depreciation before interest',\n",
       "       ' ROA(A) before interest and % after tax',\n",
       "       ' ROA(B) before interest and depreciation after tax',\n",
       "       ' Operating Gross Margin', ' Realized Sales Gross Margin',\n",
       "       ' Operating Profit Rate', ' Pre-tax net Interest Rate',\n",
       "       ' After-tax net Interest Rate',\n",
       "       ' Non-industry income and expenditure/revenue',\n",
       "       ' Continuous interest rate (after tax)', ' Operating Expense Rate',\n",
       "       ' Research and development expense rate', ' Cash flow rate',\n",
       "       ' Interest-bearing debt interest rate', ' Tax rate (A)',\n",
       "       ' Net Value Per Share (B)', ' Net Value Per Share (A)',\n",
       "       ' Net Value Per Share (C)', ' Persistent EPS in the Last Four Seasons',\n",
       "       ' Cash Flow Per Share', ' Revenue Per Share (Yuan ¥)',\n",
       "       ' Operating Profit Per Share (Yuan ¥)',\n",
       "       ' Per Share Net profit before tax (Yuan ¥)',\n",
       "       ' Realized Sales Gross Profit Growth Rate',\n",
       "       ' Operating Profit Growth Rate', ' After-tax Net Profit Growth Rate',\n",
       "       ' Regular Net Profit Growth Rate', ' Continuous Net Profit Growth Rate',\n",
       "       ' Total Asset Growth Rate', ' Net Value Growth Rate',\n",
       "       ' Total Asset Return Growth Rate Ratio', ' Cash Reinvestment %',\n",
       "       ' Current Ratio', ' Quick Ratio', ' Interest Expense Ratio',\n",
       "       ' Total debt/Total net worth', ' Debt ratio %', ' Net worth/Assets',\n",
       "       ' Long-term fund suitability ratio (A)', ' Borrowing dependency',\n",
       "       ' Contingent liabilities/Net worth',\n",
       "       ' Operating profit/Paid-in capital',\n",
       "       ' Net profit before tax/Paid-in capital',\n",
       "       ' Inventory and accounts receivable/Net value', ' Total Asset Turnover',\n",
       "       ' Accounts Receivable Turnover', ' Average Collection Days',\n",
       "       ' Inventory Turnover Rate (times)', ' Fixed Assets Turnover Frequency',\n",
       "       ' Net Worth Turnover Rate (times)', ' Revenue per person',\n",
       "       ' Operating profit per person', ' Allocation rate per person',\n",
       "       ' Working Capital to Total Assets', ' Quick Assets/Total Assets',\n",
       "       ' Current Assets/Total Assets', ' Cash/Total Assets',\n",
       "       ' Quick Assets/Current Liability', ' Cash/Current Liability',\n",
       "       ' Current Liability to Assets', ' Operating Funds to Liability',\n",
       "       ' Inventory/Working Capital', ' Inventory/Current Liability',\n",
       "       ' Current Liabilities/Liability', ' Working Capital/Equity',\n",
       "       ' Current Liabilities/Equity', ' Long-term Liability to Current Assets',\n",
       "       ' Retained Earnings to Total Assets', ' Total income/Total expense',\n",
       "       ' Total expense/Assets', ' Current Asset Turnover Rate',\n",
       "       ' Quick Asset Turnover Rate', ' Working capitcal Turnover Rate',\n",
       "       ' Cash Turnover Rate', ' Cash Flow to Sales', ' Fixed Assets to Assets',\n",
       "       ' Current Liability to Liability', ' Current Liability to Equity',\n",
       "       ' Equity to Long-term Liability', ' Cash Flow to Total Assets',\n",
       "       ' Cash Flow to Liability', ' CFO to Assets', ' Cash Flow to Equity',\n",
       "       ' Current Liability to Current Assets', ' Liability-Assets Flag',\n",
       "       ' Net Income to Total Assets', ' Total assets to GNP price',\n",
       "       ' No-credit Interval', ' Gross Profit to Sales',\n",
       "       ' Net Income to Stockholder's Equity', ' Liability to Equity',\n",
       "       ' Degree of Financial Leverage (DFL)',\n",
       "       ' Interest Coverage Ratio (Interest expense to EBIT)',\n",
       "       ' Net Income Flag', ' Equity to Liability'],\n",
       "      dtype='object')"
      ]
     },
     "execution_count": 4,
     "metadata": {},
     "output_type": "execute_result"
    }
   ],
   "source": [
    "df = pd.read_csv(path)\n",
    "print(len(df.columns))\n",
    "df.columns"
   ]
  },
  {
   "cell_type": "markdown",
   "metadata": {},
   "source": [
    "## Preprocess"
   ]
  },
  {
   "cell_type": "code",
   "execution_count": 10,
   "metadata": {},
   "outputs": [
    {
     "name": "stderr",
     "output_type": "stream",
     "text": [
      "/home/astragaliton/anaconda3/lib/python3.11/site-packages/sklearn/feature_selection/_univariate_selection.py:776: UserWarning: k=20 is greater than n_features=8. All the features will be returned.\n",
      "  warnings.warn(\n"
     ]
    }
   ],
   "source": [
    "target_column = \"Bankrupt?\"\n",
    "# feature_columns = [\n",
    "#     ' ROA(B) before interest and depreciation after tax',\n",
    "#     ' Operating Gross Margin', ' Realized Sales Gross Margin',\n",
    "#     ' Operating Profit Rate', ' Pre-tax net Interest Rate',\n",
    "#     ' After-tax net Interest Rate',\n",
    "#     ' Non-industry income and expenditure/revenue',\n",
    "#     ' Continuous interest rate (after tax)', ' Operating Expense Rate',\n",
    "#     ' Research and development expense rate', ' Cash flow rate'\n",
    "# ]\n",
    "\n",
    "feature_columns = select_important_features_with_lasso(df, target_column, 20)"
   ]
  },
  {
   "cell_type": "code",
   "execution_count": 12,
   "metadata": {},
   "outputs": [
    {
     "data": {
      "text/html": [
       "<div>\n",
       "<style scoped>\n",
       "    .dataframe tbody tr th:only-of-type {\n",
       "        vertical-align: middle;\n",
       "    }\n",
       "\n",
       "    .dataframe tbody tr th {\n",
       "        vertical-align: top;\n",
       "    }\n",
       "\n",
       "    .dataframe thead th {\n",
       "        text-align: right;\n",
       "    }\n",
       "</style>\n",
       "<table border=\"1\" class=\"dataframe\">\n",
       "  <thead>\n",
       "    <tr style=\"text-align: right;\">\n",
       "      <th></th>\n",
       "      <th>Debt ratio %</th>\n",
       "      <th>Borrowing dependency</th>\n",
       "      <th>Cash/Current Liability</th>\n",
       "      <th>Working Capital/Equity</th>\n",
       "      <th>Fixed Assets to Assets</th>\n",
       "      <th>Current Liability to Current Assets</th>\n",
       "      <th>Liability-Assets Flag</th>\n",
       "      <th>Net Income to Total Assets</th>\n",
       "      <th>Bankrupt?</th>\n",
       "    </tr>\n",
       "  </thead>\n",
       "  <tbody>\n",
       "    <tr>\n",
       "      <th>0</th>\n",
       "      <td>0.207576</td>\n",
       "      <td>0.390284</td>\n",
       "      <td>1.473360e-04</td>\n",
       "      <td>0.721275</td>\n",
       "      <td>0.424206</td>\n",
       "      <td>0.118250</td>\n",
       "      <td>0</td>\n",
       "      <td>0.716845</td>\n",
       "      <td>1</td>\n",
       "    </tr>\n",
       "    <tr>\n",
       "      <th>1</th>\n",
       "      <td>0.171176</td>\n",
       "      <td>0.376760</td>\n",
       "      <td>1.383910e-03</td>\n",
       "      <td>0.731975</td>\n",
       "      <td>0.468828</td>\n",
       "      <td>0.047775</td>\n",
       "      <td>0</td>\n",
       "      <td>0.795297</td>\n",
       "      <td>1</td>\n",
       "    </tr>\n",
       "    <tr>\n",
       "      <th>2</th>\n",
       "      <td>0.207516</td>\n",
       "      <td>0.379093</td>\n",
       "      <td>5.340000e+09</td>\n",
       "      <td>0.742729</td>\n",
       "      <td>0.276179</td>\n",
       "      <td>0.025346</td>\n",
       "      <td>0</td>\n",
       "      <td>0.774670</td>\n",
       "      <td>1</td>\n",
       "    </tr>\n",
       "    <tr>\n",
       "      <th>3</th>\n",
       "      <td>0.151465</td>\n",
       "      <td>0.379743</td>\n",
       "      <td>1.010646e-03</td>\n",
       "      <td>0.729825</td>\n",
       "      <td>0.559144</td>\n",
       "      <td>0.067250</td>\n",
       "      <td>0</td>\n",
       "      <td>0.739555</td>\n",
       "      <td>1</td>\n",
       "    </tr>\n",
       "    <tr>\n",
       "      <th>4</th>\n",
       "      <td>0.106509</td>\n",
       "      <td>0.375025</td>\n",
       "      <td>6.804636e-04</td>\n",
       "      <td>0.732000</td>\n",
       "      <td>0.309555</td>\n",
       "      <td>0.047725</td>\n",
       "      <td>0</td>\n",
       "      <td>0.795016</td>\n",
       "      <td>1</td>\n",
       "    </tr>\n",
       "    <tr>\n",
       "      <th>...</th>\n",
       "      <td>...</td>\n",
       "      <td>...</td>\n",
       "      <td>...</td>\n",
       "      <td>...</td>\n",
       "      <td>...</td>\n",
       "      <td>...</td>\n",
       "      <td>...</td>\n",
       "      <td>...</td>\n",
       "      <td>...</td>\n",
       "    </tr>\n",
       "    <tr>\n",
       "      <th>6814</th>\n",
       "      <td>0.124618</td>\n",
       "      <td>0.373823</td>\n",
       "      <td>5.071548e-03</td>\n",
       "      <td>0.736716</td>\n",
       "      <td>0.400338</td>\n",
       "      <td>0.027951</td>\n",
       "      <td>0</td>\n",
       "      <td>0.799927</td>\n",
       "      <td>0</td>\n",
       "    </tr>\n",
       "    <tr>\n",
       "      <th>6815</th>\n",
       "      <td>0.099253</td>\n",
       "      <td>0.372505</td>\n",
       "      <td>4.727181e-03</td>\n",
       "      <td>0.734584</td>\n",
       "      <td>0.096136</td>\n",
       "      <td>0.031470</td>\n",
       "      <td>0</td>\n",
       "      <td>0.799748</td>\n",
       "      <td>0</td>\n",
       "    </tr>\n",
       "    <tr>\n",
       "      <th>6816</th>\n",
       "      <td>0.038939</td>\n",
       "      <td>0.369637</td>\n",
       "      <td>8.821248e-02</td>\n",
       "      <td>0.737432</td>\n",
       "      <td>0.055509</td>\n",
       "      <td>0.007542</td>\n",
       "      <td>0</td>\n",
       "      <td>0.797778</td>\n",
       "      <td>0</td>\n",
       "    </tr>\n",
       "    <tr>\n",
       "      <th>6817</th>\n",
       "      <td>0.086979</td>\n",
       "      <td>0.369649</td>\n",
       "      <td>7.133218e-03</td>\n",
       "      <td>0.736713</td>\n",
       "      <td>0.246805</td>\n",
       "      <td>0.022916</td>\n",
       "      <td>0</td>\n",
       "      <td>0.811808</td>\n",
       "      <td>0</td>\n",
       "    </tr>\n",
       "    <tr>\n",
       "      <th>6818</th>\n",
       "      <td>0.014149</td>\n",
       "      <td>0.370049</td>\n",
       "      <td>6.667354e-02</td>\n",
       "      <td>0.737286</td>\n",
       "      <td>0.005016</td>\n",
       "      <td>0.005579</td>\n",
       "      <td>0</td>\n",
       "      <td>0.815956</td>\n",
       "      <td>0</td>\n",
       "    </tr>\n",
       "  </tbody>\n",
       "</table>\n",
       "<p>6819 rows × 9 columns</p>\n",
       "</div>"
      ],
      "text/plain": [
       "       Debt ratio %   Borrowing dependency   Cash/Current Liability  \\\n",
       "0          0.207576               0.390284             1.473360e-04   \n",
       "1          0.171176               0.376760             1.383910e-03   \n",
       "2          0.207516               0.379093             5.340000e+09   \n",
       "3          0.151465               0.379743             1.010646e-03   \n",
       "4          0.106509               0.375025             6.804636e-04   \n",
       "...             ...                    ...                      ...   \n",
       "6814       0.124618               0.373823             5.071548e-03   \n",
       "6815       0.099253               0.372505             4.727181e-03   \n",
       "6816       0.038939               0.369637             8.821248e-02   \n",
       "6817       0.086979               0.369649             7.133218e-03   \n",
       "6818       0.014149               0.370049             6.667354e-02   \n",
       "\n",
       "       Working Capital/Equity   Fixed Assets to Assets  \\\n",
       "0                    0.721275                 0.424206   \n",
       "1                    0.731975                 0.468828   \n",
       "2                    0.742729                 0.276179   \n",
       "3                    0.729825                 0.559144   \n",
       "4                    0.732000                 0.309555   \n",
       "...                       ...                      ...   \n",
       "6814                 0.736716                 0.400338   \n",
       "6815                 0.734584                 0.096136   \n",
       "6816                 0.737432                 0.055509   \n",
       "6817                 0.736713                 0.246805   \n",
       "6818                 0.737286                 0.005016   \n",
       "\n",
       "       Current Liability to Current Assets   Liability-Assets Flag  \\\n",
       "0                                 0.118250                       0   \n",
       "1                                 0.047775                       0   \n",
       "2                                 0.025346                       0   \n",
       "3                                 0.067250                       0   \n",
       "4                                 0.047725                       0   \n",
       "...                                    ...                     ...   \n",
       "6814                              0.027951                       0   \n",
       "6815                              0.031470                       0   \n",
       "6816                              0.007542                       0   \n",
       "6817                              0.022916                       0   \n",
       "6818                              0.005579                       0   \n",
       "\n",
       "       Net Income to Total Assets  Bankrupt?  \n",
       "0                        0.716845          1  \n",
       "1                        0.795297          1  \n",
       "2                        0.774670          1  \n",
       "3                        0.739555          1  \n",
       "4                        0.795016          1  \n",
       "...                           ...        ...  \n",
       "6814                     0.799927          0  \n",
       "6815                     0.799748          0  \n",
       "6816                     0.797778          0  \n",
       "6817                     0.811808          0  \n",
       "6818                     0.815956          0  \n",
       "\n",
       "[6819 rows x 9 columns]"
      ]
     },
     "execution_count": 12,
     "metadata": {},
     "output_type": "execute_result"
    }
   ],
   "source": [
    "df = df[feature_columns.copy() + [target_column]]\n",
    "df"
   ]
  },
  {
   "cell_type": "markdown",
   "metadata": {},
   "source": [
    "## Class of models"
   ]
  },
  {
   "cell_type": "code",
   "execution_count": 21,
   "metadata": {},
   "outputs": [],
   "source": [
    "def model_generator(input_dim):\n",
    "    model = Sequential([\n",
    "            Dense(16, activation='relu', input_shape=(input_dim,)),\n",
    "            Dense(16, activation='relu', input_shape=(input_dim,)),\n",
    "            Dense(8, activation='relu', input_shape=(input_dim,)),\n",
    "            Dense(1, activation='sigmoid')\n",
    "        ])\n",
    "    model.compile(optimizer='adam', loss='binary_crossentropy')\n",
    "\n",
    "    return model"
   ]
  },
  {
   "cell_type": "markdown",
   "metadata": {},
   "source": [
    "## Analysis"
   ]
  },
  {
   "cell_type": "code",
   "execution_count": 22,
   "metadata": {},
   "outputs": [
    {
     "name": "stdout",
     "output_type": "stream",
     "text": [
      "\n",
      "Init\n",
      "---\n",
      "\n",
      "Evaluated subset (' Working Capital/Equity', ' Fixed Assets to Assets', ' Current Liability to Current Assets', ' Debt ratio %') with loss: 0.1155\n",
      "Evaluated subset (' Current Liability to Current Assets', ' Working Capital/Equity', ' Liability-Assets Flag', ' Borrowing dependency') with loss: 0.1270\n",
      "Evaluated subset (' Borrowing dependency', ' Current Liability to Current Assets', ' Debt ratio %', ' Cash/Current Liability') with loss: 50482.8555\n",
      "Evaluated subset (' Cash/Current Liability', ' Debt ratio %', ' Current Liability to Current Assets', ' Working Capital/Equity') with loss: 212279.9062\n",
      "Evaluated subset (' Borrowing dependency', ' Working Capital/Equity', ' Cash/Current Liability', ' Fixed Assets to Assets') with loss: 97427.2109\n",
      "Evaluated subset (' Cash/Current Liability', ' Debt ratio %', ' Net Income to Total Assets', ' Current Liability to Current Assets') with loss: 23942.7207\n",
      "Evaluated subset (' Borrowing dependency', ' Net Income to Total Assets', ' Fixed Assets to Assets', ' Liability-Assets Flag') with loss: 0.1280\n",
      "Evaluated subset (' Fixed Assets to Assets', ' Borrowing dependency', ' Cash/Current Liability', ' Net Income to Total Assets') with loss: 0.1341\n",
      "\n",
      "Rec\n",
      "---\n",
      "\n",
      "Evaluated subset (' Fixed Assets to Assets', ' Cash/Current Liability', ' Net Income to Total Assets') with loss: 415770.9688\n",
      "Evaluated subset (' Fixed Assets to Assets', ' Cash/Current Liability', ' Net Income to Total Assets') with loss: 12227.9736\n",
      "Evaluated subset (' Fixed Assets to Assets', ' Cash/Current Liability', ' Net Income to Total Assets') with loss: 152914.5156\n",
      "Evaluated subset (' Borrowing dependency', ' Net Income to Total Assets', ' Fixed Assets to Assets') with loss: 0.1362\n",
      "Evaluated subset (' Borrowing dependency', ' Net Income to Total Assets', ' Liability-Assets Flag') with loss: 0.1218\n",
      "Evaluated subset (' Working Capital/Equity', ' Current Liability to Current Assets', ' Debt ratio %') with loss: 0.1087\n",
      "Evaluated subset (' Current Liability to Current Assets', ' Working Capital/Equity', ' Borrowing dependency') with loss: 0.1244\n",
      "Evaluated subset (' Working Capital/Equity', ' Debt ratio %') with loss: 0.1119\n",
      "Evaluated subset (' Fixed Assets to Assets', ' Borrowing dependency', ' Net Income to Total Assets') with loss: 0.1363\n",
      "Evaluated subset (' Working Capital/Equity', ' Current Liability to Current Assets') with loss: 0.1390\n",
      "Evaluated subset (' Borrowing dependency', ' Net Income to Total Assets') with loss: 0.1292\n",
      "Evaluated subset (' Working Capital/Equity',) with loss: 0.1421\n",
      "Evaluated subset (' Current Liability to Current Assets', ' Working Capital/Equity') with loss: 0.1350\n",
      "Evaluated subset (' Borrowing dependency', ' Liability-Assets Flag') with loss: 0.1425\n",
      "Evaluated subset (' Working Capital/Equity', ' Borrowing dependency') with loss: 0.1413\n",
      "Evaluated subset (' Fixed Assets to Assets', ' Net Income to Total Assets') with loss: 0.1342\n",
      "Evaluated subset (' Current Liability to Current Assets', ' Liability-Assets Flag', ' Borrowing dependency') with loss: 0.1350\n",
      "Evaluated subset (' Working Capital/Equity',) with loss: 0.1417\n",
      "Evaluated subset (' Working Capital/Equity',) with loss: 0.1418\n",
      "Evaluated subset (' Working Capital/Equity',) with loss: 0.1422\n"
     ]
    }
   ],
   "source": [
    "model_gen = model_generator\n",
    "subset_losses, subset_weights = evaluate_subsets(df, target_col=target_column, model_generator=model_gen, max_subsets=20, target_max_variables=4, epochs=10)"
   ]
  },
  {
   "cell_type": "code",
   "execution_count": 23,
   "metadata": {},
   "outputs": [
    {
     "data": {
      "text/plain": [
       "{'average_losses': {' Working Capital/Equity': 28155.296543256463,\n",
       "  ' Fixed Assets to Assets': 36383.2268149741,\n",
       "  ' Current Liability to Current Assets': 28670.636695116013,\n",
       "  ' Debt ratio %': 47784.30309485396,\n",
       "  ' Liability-Assets Flag': 0.1308424338698387,\n",
       "  ' Borrowing dependency': 11377.809394449569,\n",
       "  ' Cash/Current Liability': 96295.10780115922,\n",
       "  ' Net Income to Total Assets': 24175.71775708182},\n",
       " 'normalized_scores': {' Working Capital/Equity': 0.12050306411696889,\n",
       "  ' Fixed Assets to Assets': 0.12526544147490032,\n",
       "  ' Current Liability to Current Assets': 0.12079595824823548,\n",
       "  ' Debt ratio %': 0.13217711397976165,\n",
       "  ' Liability-Assets Flag': 0.10553502028765974,\n",
       "  ' Borrowing dependency': 0.11134576956066998,\n",
       "  ' Cash/Current Liability': 0.16611257842808375,\n",
       "  ' Net Income to Total Assets': 0.1182650539037203}}"
      ]
     },
     "execution_count": 23,
     "metadata": {},
     "output_type": "execute_result"
    }
   ],
   "source": [
    "variable_contributions = compute_variable_contributions(subset_losses)\n",
    "variable_contributions"
   ]
  },
  {
   "cell_type": "code",
   "execution_count": 24,
   "metadata": {},
   "outputs": [
    {
     "data": {
      "text/plain": [
       "{' Cash/Current Liability': 0.16611257842808375,\n",
       " ' Debt ratio %': 0.13217711397976165,\n",
       " ' Fixed Assets to Assets': 0.12526544147490032,\n",
       " ' Current Liability to Current Assets': 0.12079595824823548,\n",
       " ' Working Capital/Equity': 0.12050306411696889}"
      ]
     },
     "execution_count": 24,
     "metadata": {},
     "output_type": "execute_result"
    }
   ],
   "source": [
    "top_k_variables(variable_contributions['normalized_scores'], 5)"
   ]
  },
  {
   "cell_type": "code",
   "execution_count": null,
   "metadata": {},
   "outputs": [],
   "source": []
  }
 ],
 "metadata": {
  "kernelspec": {
   "display_name": "base",
   "language": "python",
   "name": "python3"
  },
  "language_info": {
   "codemirror_mode": {
    "name": "ipython",
    "version": 3
   },
   "file_extension": ".py",
   "mimetype": "text/x-python",
   "name": "python",
   "nbconvert_exporter": "python",
   "pygments_lexer": "ipython3",
   "version": "3.11.5"
  }
 },
 "nbformat": 4,
 "nbformat_minor": 2
}
